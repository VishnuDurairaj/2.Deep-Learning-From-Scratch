{
 "cells": [
  {
   "cell_type": "markdown",
   "metadata": {},
   "source": [
    "# All Activationg functions and their Drivatives"
   ]
  },
  {
   "cell_type": "code",
   "execution_count": 213,
   "metadata": {},
   "outputs": [],
   "source": [
    "import numpy as np\n",
    "import matplotlib.pyplot as plt\n",
    "import pandas as pd\n",
    "import time\n",
    "%matplotlib inline\n",
    "# plt.rcParams[\"animation.html\"]='jshtml'"
   ]
  },
  {
   "cell_type": "markdown",
   "metadata": {},
   "source": [
    "### Sigmoid"
   ]
  },
  {
   "cell_type": "code",
   "execution_count": 64,
   "metadata": {},
   "outputs": [],
   "source": [
    "def sigmoid(Z):\n",
    "    return 1/(1+np.exp(-Z))"
   ]
  },
  {
   "cell_type": "code",
   "execution_count": 65,
   "metadata": {},
   "outputs": [],
   "source": [
    "def derivative_sigmoid (Z):\n",
    "    return Z *(1-Z)"
   ]
  },
  {
   "cell_type": "markdown",
   "metadata": {},
   "source": [
    "### Tanh"
   ]
  },
  {
   "cell_type": "code",
   "execution_count": 66,
   "metadata": {},
   "outputs": [],
   "source": [
    "def tanh(Z):\n",
    "    return (np.exp(Z)-np.exp(-Z))/(np.exp(Z)+np.exp(-Z))"
   ]
  },
  {
   "cell_type": "code",
   "execution_count": 67,
   "metadata": {},
   "outputs": [],
   "source": [
    "def derivative_tanh(Z):\n",
    "    return 1-Z**2"
   ]
  },
  {
   "cell_type": "markdown",
   "metadata": {},
   "source": [
    "### ReLU"
   ]
  },
  {
   "cell_type": "code",
   "execution_count": 68,
   "metadata": {},
   "outputs": [],
   "source": [
    "def ReLU(Z):\n",
    "    return np.maximum(0,Z)"
   ]
  },
  {
   "cell_type": "code",
   "execution_count": 142,
   "metadata": {},
   "outputs": [],
   "source": [
    "def derivative_ReLU(Z):\n",
    "    return  np.where(Z>0,1,0)"
   ]
  },
  {
   "cell_type": "markdown",
   "metadata": {},
   "source": [
    "### Leaky ReLU"
   ]
  },
  {
   "cell_type": "code",
   "execution_count": 70,
   "metadata": {},
   "outputs": [],
   "source": [
    "def Leaky_ReLU(Z):\n",
    "    return np.where(Z>0,Z,0.01*Z)"
   ]
  },
  {
   "cell_type": "code",
   "execution_count": 146,
   "metadata": {},
   "outputs": [],
   "source": [
    "def derivative_Leaky_ReLU(Z):\n",
    "    return np.where(Z>0,1,0.01)"
   ]
  },
  {
   "cell_type": "markdown",
   "metadata": {},
   "source": [
    "### ELU"
   ]
  },
  {
   "cell_type": "code",
   "execution_count": 72,
   "metadata": {},
   "outputs": [],
   "source": [
    "def ELU(Z):\n",
    "    return np.where(Z>0,Z,(0.01*(np.exp(Z)-1)))"
   ]
  },
  {
   "cell_type": "code",
   "execution_count": 73,
   "metadata": {},
   "outputs": [],
   "source": [
    "def derivative_ELU(Z):\n",
    "    return np.where(Z>0,1,(0.1*(np.exp(Z))))"
   ]
  },
  {
   "cell_type": "markdown",
   "metadata": {},
   "source": [
    "### PReLU"
   ]
  },
  {
   "cell_type": "code",
   "execution_count": 74,
   "metadata": {},
   "outputs": [],
   "source": [
    "def PReLU(Z,alpha):\n",
    "    return np.where(Z>0,Z,alpha*(Z))"
   ]
  },
  {
   "cell_type": "code",
   "execution_count": 75,
   "metadata": {},
   "outputs": [],
   "source": [
    "def derivative_LReLU(Z):\n",
    "    return np.where(Z>0,1,alpha)"
   ]
  },
  {
   "cell_type": "markdown",
   "metadata": {},
   "source": [
    "### Softplus"
   ]
  },
  {
   "cell_type": "code",
   "execution_count": 76,
   "metadata": {},
   "outputs": [],
   "source": [
    "def softplus(Z):\n",
    "    return np.log(1+np.exp(Z))"
   ]
  },
  {
   "cell_type": "code",
   "execution_count": 77,
   "metadata": {},
   "outputs": [],
   "source": [
    "def derivative_softplus(Z):\n",
    "    return np.exp(Z)/(1+np.exp(Z))"
   ]
  },
  {
   "cell_type": "markdown",
   "metadata": {},
   "source": [
    "### Swish"
   ]
  },
  {
   "cell_type": "code",
   "execution_count": 156,
   "metadata": {},
   "outputs": [],
   "source": [
    "def Swish(Z):\n",
    "    return Z*(1/(1+np.exp(-Z)))"
   ]
  },
  {
   "cell_type": "code",
   "execution_count": 79,
   "metadata": {},
   "outputs": [],
   "source": [
    "def derivative_Swish(Z):\n",
    "    return  Z*(sigmoid(Z)*(1-sigmoid(Z)))+sigmoid(Z)"
   ]
  },
  {
   "cell_type": "markdown",
   "metadata": {},
   "source": [
    "### Maxout"
   ]
  },
  {
   "cell_type": "code",
   "execution_count": 176,
   "metadata": {},
   "outputs": [],
   "source": [
    "def Maxout(Z):\n",
    "    for i in range(Z.shape[0]):\n",
    "        ind=np.argmax(Z[i])\n",
    "        row=Z[i,ind]\n",
    "        Z[i]=np.where(Z[i]!=row,0,row)\n",
    "    return Z"
   ]
  },
  {
   "cell_type": "code",
   "execution_count": 177,
   "metadata": {},
   "outputs": [],
   "source": [
    "def derivative_Maxout(Z):\n",
    "    for i in range(Z.shape[0]):\n",
    "        ind=np.argmax(Z[i])\n",
    "        row=Z[i,ind]\n",
    "        Z[i]=np.where(Z[i]!=row,0,1)\n",
    "    return Z"
   ]
  },
  {
   "cell_type": "markdown",
   "metadata": {},
   "source": [
    "### Softmax"
   ]
  },
  {
   "cell_type": "code",
   "execution_count": 178,
   "metadata": {},
   "outputs": [],
   "source": [
    "def softmax(Z):\n",
    "    expA=np.exp(Z-np.max(Z))\n",
    "    return expA/expA.sum(axis=1,keepdims=True)"
   ]
  },
  {
   "cell_type": "code",
   "execution_count": 179,
   "metadata": {},
   "outputs": [],
   "source": [
    "def derivative_softmax(Z):\n",
    "    return Z*(1-Z)"
   ]
  },
  {
   "cell_type": "markdown",
   "metadata": {},
   "source": [
    "### Preparing the data"
   ]
  },
  {
   "cell_type": "code",
   "execution_count": 211,
   "metadata": {},
   "outputs": [],
   "source": [
    "# Simple Xor function\n",
    "\n",
    "X=np.array([[1,1],[1,0],[0,1],[0,0],[1,1],[1,0],[0,1],[0,0],[1,1],[1,0],[0,1],[0,0]])\n",
    "y=np.array([0,1,1,0]*3)\n",
    "\n",
    "# Creating DF\n",
    "data=pd.DataFrame(data=X,columns=[f'X{i}' for i in range(X.shape[1])])\n",
    "data[\"y\"]=y"
   ]
  },
  {
   "cell_type": "code",
   "execution_count": 212,
   "metadata": {},
   "outputs": [
    {
     "data": {
      "text/html": [
       "<div>\n",
       "<style scoped>\n",
       "    .dataframe tbody tr th:only-of-type {\n",
       "        vertical-align: middle;\n",
       "    }\n",
       "\n",
       "    .dataframe tbody tr th {\n",
       "        vertical-align: top;\n",
       "    }\n",
       "\n",
       "    .dataframe thead th {\n",
       "        text-align: right;\n",
       "    }\n",
       "</style>\n",
       "<table border=\"1\" class=\"dataframe\">\n",
       "  <thead>\n",
       "    <tr style=\"text-align: right;\">\n",
       "      <th></th>\n",
       "      <th>X0</th>\n",
       "      <th>X1</th>\n",
       "      <th>y</th>\n",
       "    </tr>\n",
       "  </thead>\n",
       "  <tbody>\n",
       "    <tr>\n",
       "      <th>0</th>\n",
       "      <td>1</td>\n",
       "      <td>1</td>\n",
       "      <td>0</td>\n",
       "    </tr>\n",
       "    <tr>\n",
       "      <th>1</th>\n",
       "      <td>1</td>\n",
       "      <td>0</td>\n",
       "      <td>1</td>\n",
       "    </tr>\n",
       "    <tr>\n",
       "      <th>2</th>\n",
       "      <td>0</td>\n",
       "      <td>1</td>\n",
       "      <td>1</td>\n",
       "    </tr>\n",
       "    <tr>\n",
       "      <th>3</th>\n",
       "      <td>0</td>\n",
       "      <td>0</td>\n",
       "      <td>0</td>\n",
       "    </tr>\n",
       "    <tr>\n",
       "      <th>4</th>\n",
       "      <td>1</td>\n",
       "      <td>1</td>\n",
       "      <td>0</td>\n",
       "    </tr>\n",
       "    <tr>\n",
       "      <th>5</th>\n",
       "      <td>1</td>\n",
       "      <td>0</td>\n",
       "      <td>1</td>\n",
       "    </tr>\n",
       "    <tr>\n",
       "      <th>6</th>\n",
       "      <td>0</td>\n",
       "      <td>1</td>\n",
       "      <td>1</td>\n",
       "    </tr>\n",
       "    <tr>\n",
       "      <th>7</th>\n",
       "      <td>0</td>\n",
       "      <td>0</td>\n",
       "      <td>0</td>\n",
       "    </tr>\n",
       "    <tr>\n",
       "      <th>8</th>\n",
       "      <td>1</td>\n",
       "      <td>1</td>\n",
       "      <td>0</td>\n",
       "    </tr>\n",
       "    <tr>\n",
       "      <th>9</th>\n",
       "      <td>1</td>\n",
       "      <td>0</td>\n",
       "      <td>1</td>\n",
       "    </tr>\n",
       "    <tr>\n",
       "      <th>10</th>\n",
       "      <td>0</td>\n",
       "      <td>1</td>\n",
       "      <td>1</td>\n",
       "    </tr>\n",
       "    <tr>\n",
       "      <th>11</th>\n",
       "      <td>0</td>\n",
       "      <td>0</td>\n",
       "      <td>0</td>\n",
       "    </tr>\n",
       "  </tbody>\n",
       "</table>\n",
       "</div>"
      ],
      "text/plain": [
       "    X0  X1  y\n",
       "0    1   1  0\n",
       "1    1   0  1\n",
       "2    0   1  1\n",
       "3    0   0  0\n",
       "4    1   1  0\n",
       "5    1   0  1\n",
       "6    0   1  1\n",
       "7    0   0  0\n",
       "8    1   1  0\n",
       "9    1   0  1\n",
       "10   0   1  1\n",
       "11   0   0  0"
      ]
     },
     "execution_count": 212,
     "metadata": {},
     "output_type": "execute_result"
    }
   ],
   "source": [
    "data"
   ]
  },
  {
   "cell_type": "code",
   "execution_count": 195,
   "metadata": {},
   "outputs": [
    {
     "data": {
      "text/plain": [
       "<matplotlib.collections.PathCollection at 0x23eb1992370>"
      ]
     },
     "execution_count": 195,
     "metadata": {},
     "output_type": "execute_result"
    },
    {
     "data": {
      "image/png": "[encoded data removed]",
      "text/plain": [
       "<Figure size 432x288 with 1 Axes>"
      ]
     },
     "metadata": {
      "needs_background": "light"
     },
     "output_type": "display_data"
    }
   ],
   "source": [
    "# Ploting the data\n",
    "\n",
    "plt.scatter(X[:,0],X[:,1],c=y)"
   ]
  },
  {
   "cell_type": "markdown",
   "metadata": {},
   "source": [
    "# Building Neural Network from scratch"
   ]
  },
  {
   "cell_type": "markdown",
   "metadata": {},
   "source": [
    "### One Hot Encoder"
   ]
  },
  {
   "cell_type": "code",
   "execution_count": 183,
   "metadata": {},
   "outputs": [],
   "source": [
    "def one_hoty(y):\n",
    "    z=np.zeros((len(y),len(np.unique(y))),dtype=int)\n",
    "    for i in range(len(y)):\n",
    "        z[i,y[i]]=1\n",
    "    return z"
   ]
  },
  {
   "cell_type": "markdown",
   "metadata": {},
   "source": [
    "### Weight Initializing - He Normal"
   ]
  },
  {
   "cell_type": "code",
   "execution_count": 197,
   "metadata": {},
   "outputs": [],
   "source": [
    "def _init_param(X,y,hidden):\n",
    "    W1=np.random.normal(loc=0,scale=np.sqrt(2/(X.shape[1])),size=(X.shape[1],hidden[0]))\n",
    "    b1=np.random.normal(loc=0,scale=np.sqrt(2/(X.shape[1])),size=hidden[0])\n",
    "    W2=np.random.normal(loc=0,scale=np.sqrt(2/(hidden[0])),size=(hidden[0],len(np.unique(y))))\n",
    "    b2=np.random.normal(loc=0,scale=np.sqrt(2/(hidden[0])),size=len(np.unique(y)))\n",
    "    return W1,b1,W2,b2"
   ]
  },
  {
   "cell_type": "markdown",
   "metadata": {},
   "source": [
    "### Forward Probagation"
   ]
  },
  {
   "cell_type": "markdown",
   "metadata": {},
   "source": [
    "> We need to Change the activation function manually\n",
    "\n",
    "> Feel free to change and check how each activation function works"
   ]
  },
  {
   "cell_type": "code",
   "execution_count": 198,
   "metadata": {},
   "outputs": [],
   "source": [
    "def forward_probagation(X,W1,b1,W2,b2):\n",
    "    #Input Layer\n",
    "    Z1=np.dot(X,W1)+b1\n",
    "    \n",
    "    # Hidden Layer\n",
    "    Activation1=Maxout(Z1)\n",
    "    \n",
    "    Z2=np.dot(Activation1,W2)+b2\n",
    "    \n",
    "    # Output layer\n",
    "    YP=softmax(Z2)\n",
    "    \n",
    "    return Z1,Activation1,Z2,YP"
   ]
  },
  {
   "cell_type": "markdown",
   "metadata": {},
   "source": [
    "### Backward Probagation"
   ]
  },
  {
   "cell_type": "code",
   "execution_count": 199,
   "metadata": {},
   "outputs": [],
   "source": [
    "def Back_probagation(X,y,W2,A1,YP,derivative_act):\n",
    "    dW2=(-(y-YP)).T.dot(A1)\n",
    "    db2=(-(y-YP)).sum(axis=0)\n",
    "    dW1=(-((y-YP).dot(W2.T)*(derivative_act))).T.dot(X)\n",
    "    db1=(-((y-YP).dot(W2.T)*derivative_act)).sum(axis=0)\n",
    "    return dW2,db2,dW1,db1"
   ]
  },
  {
   "cell_type": "markdown",
   "metadata": {},
   "source": [
    "### Weight Updation"
   ]
  },
  {
   "cell_type": "code",
   "execution_count": 200,
   "metadata": {},
   "outputs": [],
   "source": [
    "def update_weights(W1,b1,W2,b2,dW2,db2,dW1,db1,lr):\n",
    "    W1=W1-(lr*dW1.T)\n",
    "    b1=b1-(lr*db1)\n",
    "    W2=W2-(lr*dW2.T)\n",
    "    b2=b2-(lr*db2)\n",
    "    return W1,b1,W2,b2"
   ]
  },
  {
   "cell_type": "markdown",
   "metadata": {},
   "source": [
    "### Prediction"
   ]
  },
  {
   "cell_type": "code",
   "execution_count": 201,
   "metadata": {},
   "outputs": [],
   "source": [
    "def predict1(X,W1,b1,W2,b2):\n",
    "    _,_,_,YP=forward_probagation(X,W1,b1,W2,b2)\n",
    "    res=np.zeros(YP.shape[0],dtype=int)\n",
    "    for i in range(YP.shape[0]):\n",
    "        if YP[i,0]>YP[i,1]:\n",
    "            res[i]=0\n",
    "        else:\n",
    "            res[i]=1\n",
    "    return res"
   ]
  },
  {
   "cell_type": "markdown",
   "metadata": {},
   "source": [
    "### Training "
   ]
  },
  {
   "cell_type": "markdown",
   "metadata": {},
   "source": [
    "> Note: Here we need to change the derivative of the activation function manually"
   ]
  },
  {
   "cell_type": "code",
   "execution_count": 214,
   "metadata": {},
   "outputs": [],
   "source": [
    "def trainining(X,y,n_hidden,lr,iterration,plot=False):\n",
    "\n",
    "# We can see the step by step transformation by setting plot = True    \n",
    "    \n",
    "    if plot:\n",
    "        fig=plt.figure(1,(13,5))\n",
    "        ax1=fig.add_subplot(141)\n",
    "        ax2=fig.add_subplot(142)\n",
    "        ax3=fig.add_subplot(143)\n",
    "        ax4=fig.add_subplot(144)\n",
    "    \n",
    "# Weight initialization\n",
    "    W1,b1,W2,b2=_init_param(X,y,n_hidden)\n",
    "    \n",
    "# Converting y into one hot vector\n",
    "    y1=one_hoty(y)\n",
    "    \n",
    "    for i in range(iterration):\n",
    "        \n",
    "# Forward pass\n",
    "        Z1,A1,Z2,YP=forward_probagation(X,W1,b1,W2,b2)\n",
    "        \n",
    "# Computing Cost\n",
    "        cost=-(np.sum(y1*(np.log(YP))+((1-y1)*(np.log(1-YP)))))\n",
    "\n",
    "# Ploting the transformation\n",
    "        if plot:\n",
    "            ax1.scatter(X[:,0],X[:,1],c=y)\n",
    "            ax2.scatter(A1[:,0],A1[:,1],c=y)\n",
    "            ax3.scatter(Z2[:,0],Z2[:,1],c=y)\n",
    "            ax4.scatter(YP[:,0],YP[:,1],c=y)\n",
    "            fig.canvas.draw()\n",
    "\n",
    "# Computing gradient of activation function             >>>>>> (\" Need to change when we change the activation function\")\n",
    "        derivative_activation=derivative_Maxout(A1)\n",
    "    \n",
    "# Backward function\n",
    "        dW2,db2,dW1,db1=Back_probagation(X,y1,W2,A1,YP,derivative_activation)\n",
    "    \n",
    "# Updating Weight\n",
    "        W1,b1,W2,b2=update_weights(W1,b1,W2,b2,dW2,db2,dW1,db1,lr)\n",
    "        \n",
    "#     print(cost)\n",
    "    return W1,b1,W2,b2"
   ]
  },
  {
   "cell_type": "markdown",
   "metadata": {},
   "source": [
    "### Training the model"
   ]
  },
  {
   "cell_type": "code",
   "execution_count": 203,
   "metadata": {},
   "outputs": [],
   "source": [
    "W1,b1,W2,b2=trainining(X,y,[10],0.01,1000)"
   ]
  },
  {
   "cell_type": "markdown",
   "metadata": {},
   "source": [
    "### Testing the model"
   ]
  },
  {
   "cell_type": "code",
   "execution_count": 204,
   "metadata": {},
   "outputs": [],
   "source": [
    "y_predicted=predict1(X,W1,b1,W2,b2)"
   ]
  },
  {
   "cell_type": "markdown",
   "metadata": {},
   "source": [
    "### Accuracy"
   ]
  },
  {
   "cell_type": "code",
   "execution_count": 205,
   "metadata": {},
   "outputs": [
    {
     "data": {
      "text/plain": [
       "1.0"
      ]
     },
     "execution_count": 205,
     "metadata": {},
     "output_type": "execute_result"
    }
   ],
   "source": [
    "sum(y_predicted==y)/len(y)"
   ]
  },
  {
   "cell_type": "markdown",
   "metadata": {},
   "source": [
    "# i have checked all the activation function, and  did not get any error "
   ]
  },
  {
   "cell_type": "code",
   "execution_count": null,
   "metadata": {},
   "outputs": [],
   "source": []
  }
 ],
 "metadata": {
  "kernelspec": {
   "display_name": "Python 3",
   "language": "python",
   "name": "python3"
  },
  "language_info": {
   "codemirror_mode": {
    "name": "ipython",
    "version": 3
   },
   "file_extension": ".py",
   "mimetype": "text/x-python",
   "name": "python",
   "nbconvert_exporter": "python",
   "pygments_lexer": "ipython3",
   "version": "3.8.5"
  }
 },
 "nbformat": 4,
 "nbformat_minor": 4
}
