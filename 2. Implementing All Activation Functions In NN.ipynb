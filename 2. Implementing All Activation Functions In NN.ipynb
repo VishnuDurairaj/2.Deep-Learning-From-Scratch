{
 "cells": [
  {
   "cell_type": "markdown",
   "metadata": {},
   "source": [
    "# All Activation functions and their Drivatives"
   ]
  },
  {
   "cell_type": "code",
   "execution_count": 221,
   "metadata": {},
   "outputs": [],
   "source": [
    "import numpy as np\n",
    "import matplotlib.pyplot as plt\n",
    "import pandas as pd\n",
    "import time\n",
    "%matplotlib inline\n",
    "# plt.rcParams[\"animation.html\"]='jshtml'"
   ]
  },
  {
   "cell_type": "markdown",
   "metadata": {},
   "source": [
    "### Sigmoid"
   ]
  },
  {
   "cell_type": "code",
   "execution_count": 222,
   "metadata": {},
   "outputs": [],
   "source": [
    "def sigmoid(Z):\n",
    "    return 1/(1+np.exp(-Z))"
   ]
  },
  {
   "cell_type": "code",
   "execution_count": 223,
   "metadata": {},
   "outputs": [],
   "source": [
    "def derivative_sigmoid (Z):\n",
    "    return Z *(1-Z)"
   ]
  },
  {
   "cell_type": "markdown",
   "metadata": {},
   "source": [
    "### Tanh"
   ]
  },
  {
   "cell_type": "code",
   "execution_count": 224,
   "metadata": {},
   "outputs": [],
   "source": [
    "def tanh(Z):\n",
    "    return (np.exp(Z)-np.exp(-Z))/(np.exp(Z)+np.exp(-Z))"
   ]
  },
  {
   "cell_type": "code",
   "execution_count": 225,
   "metadata": {},
   "outputs": [],
   "source": [
    "def derivative_tanh(Z):\n",
    "    return 1-Z**2"
   ]
  },
  {
   "cell_type": "markdown",
   "metadata": {},
   "source": [
    "### ReLU"
   ]
  },
  {
   "cell_type": "code",
   "execution_count": 226,
   "metadata": {},
   "outputs": [],
   "source": [
    "def ReLU(Z):\n",
    "    return np.maximum(0,Z)"
   ]
  },
  {
   "cell_type": "code",
   "execution_count": 227,
   "metadata": {},
   "outputs": [],
   "source": [
    "def derivative_ReLU(Z):\n",
    "    return  np.where(Z>0,1,0)"
   ]
  },
  {
   "cell_type": "markdown",
   "metadata": {},
   "source": [
    "### Leaky ReLU"
   ]
  },
  {
   "cell_type": "code",
   "execution_count": 228,
   "metadata": {},
   "outputs": [],
   "source": [
    "def Leaky_ReLU(Z):\n",
    "    return np.where(Z>0,Z,0.01*Z)"
   ]
  },
  {
   "cell_type": "code",
   "execution_count": 229,
   "metadata": {},
   "outputs": [],
   "source": [
    "def derivative_Leaky_ReLU(Z):\n",
    "    return np.where(Z>0,1,0.01)"
   ]
  },
  {
   "cell_type": "markdown",
   "metadata": {},
   "source": [
    "### ELU"
   ]
  },
  {
   "cell_type": "code",
   "execution_count": 230,
   "metadata": {},
   "outputs": [],
   "source": [
    "def ELU(Z):\n",
    "    return np.where(Z>0,Z,(0.01*(np.exp(Z)-1)))"
   ]
  },
  {
   "cell_type": "code",
   "execution_count": 231,
   "metadata": {},
   "outputs": [],
   "source": [
    "def derivative_ELU(Z):\n",
    "    return np.where(Z>0,1,(0.1*(np.exp(Z))))"
   ]
  },
  {
   "cell_type": "markdown",
   "metadata": {},
   "source": [
    "### PReLU"
   ]
  },
  {
   "cell_type": "code",
   "execution_count": 232,
   "metadata": {},
   "outputs": [],
   "source": [
    "def PReLU(Z,alpha):\n",
    "    return np.where(Z>0,Z,alpha*(Z))"
   ]
  },
  {
   "cell_type": "code",
   "execution_count": 233,
   "metadata": {},
   "outputs": [],
   "source": [
    "def derivative_LReLU(Z):\n",
    "    return np.where(Z>0,1,alpha)"
   ]
  },
  {
   "cell_type": "markdown",
   "metadata": {},
   "source": [
    "### Softplus"
   ]
  },
  {
   "cell_type": "code",
   "execution_count": 234,
   "metadata": {},
   "outputs": [],
   "source": [
    "def softplus(Z):\n",
    "    return np.log(1+np.exp(Z))"
   ]
  },
  {
   "cell_type": "code",
   "execution_count": 235,
   "metadata": {},
   "outputs": [],
   "source": [
    "def derivative_softplus(Z):\n",
    "    return np.exp(Z)/(1+np.exp(Z))"
   ]
  },
  {
   "cell_type": "markdown",
   "metadata": {},
   "source": [
    "### Swish"
   ]
  },
  {
   "cell_type": "code",
   "execution_count": 236,
   "metadata": {},
   "outputs": [],
   "source": [
    "def Swish(Z):\n",
    "    return Z*(1/(1+np.exp(-Z)))"
   ]
  },
  {
   "cell_type": "code",
   "execution_count": 237,
   "metadata": {},
   "outputs": [],
   "source": [
    "def derivative_Swish(Z):\n",
    "    return  Z*(sigmoid(Z)*(1-sigmoid(Z)))+sigmoid(Z)"
   ]
  },
  {
   "cell_type": "markdown",
   "metadata": {},
   "source": [
    "### Maxout"
   ]
  },
  {
   "cell_type": "code",
   "execution_count": 238,
   "metadata": {},
   "outputs": [],
   "source": [
    "def Maxout(Z):\n",
    "    for i in range(Z.shape[0]):\n",
    "        ind=np.argmax(Z[i])\n",
    "        row=Z[i,ind]\n",
    "        Z[i]=np.where(Z[i]!=row,0,row)\n",
    "    return Z"
   ]
  },
  {
   "cell_type": "code",
   "execution_count": 239,
   "metadata": {},
   "outputs": [],
   "source": [
    "def derivative_Maxout(Z):\n",
    "    for i in range(Z.shape[0]):\n",
    "        ind=np.argmax(Z[i])\n",
    "        row=Z[i,ind]\n",
    "        Z[i]=np.where(Z[i]!=row,0,1)\n",
    "    return Z"
   ]
  },
  {
   "cell_type": "markdown",
   "metadata": {},
   "source": [
    "### Softmax"
   ]
  },
  {
   "cell_type": "code",
   "execution_count": 240,
   "metadata": {},
   "outputs": [],
   "source": [
    "def softmax(Z):\n",
    "    expA=np.exp(Z-np.max(Z))\n",
    "    return expA/expA.sum(axis=1,keepdims=True)"
   ]
  },
  {
   "cell_type": "code",
   "execution_count": 241,
   "metadata": {},
   "outputs": [],
   "source": [
    "def derivative_softmax(Z):\n",
    "    return Z*(1-Z)"
   ]
  },
  {
   "cell_type": "markdown",
   "metadata": {},
   "source": [
    "### Preparing the data"
   ]
  },
  {
   "cell_type": "code",
   "execution_count": 326,
   "metadata": {},
   "outputs": [],
   "source": [
    "# Simple Xor function\n",
    "\n",
    "X,y=make_moons(1000,noise=0.2)\n",
    "\n",
    "# Creating DF\n",
    "data=pd.DataFrame(data=X,columns=[f'X{i}' for i in range(X.shape[1])])\n",
    "data[\"y\"]=y"
   ]
  },
  {
   "cell_type": "code",
   "execution_count": 327,
   "metadata": {},
   "outputs": [
    {
     "data": {
      "text/plain": [
       "<matplotlib.collections.PathCollection at 0x23eb28f4940>"
      ]
     },
     "execution_count": 327,
     "metadata": {},
     "output_type": "execute_result"
    },
    {
     "data": {
      "image/png": "[encoded data removed]",
      "text/plain": [
       "<Figure size 432x288 with 1 Axes>"
      ]
     },
     "metadata": {
      "needs_background": "light"
     },
     "output_type": "display_data"
    }
   ],
   "source": [
    "plt.scatter(X[:,0],X[:,1],c=y)"
   ]
  },
  {
   "cell_type": "markdown",
   "metadata": {},
   "source": [
    "# Building Neural Network from scratch"
   ]
  },
  {
   "cell_type": "markdown",
   "metadata": {},
   "source": [
    "### One Hot Encoder"
   ]
  },
  {
   "cell_type": "code",
   "execution_count": 328,
   "metadata": {},
   "outputs": [],
   "source": [
    "def one_hoty(y):\n",
    "    z=np.zeros((len(y),len(np.unique(y))),dtype=int)\n",
    "    for i in range(len(y)):\n",
    "        z[i,y[i]]=1\n",
    "    return z"
   ]
  },
  {
   "cell_type": "markdown",
   "metadata": {},
   "source": [
    "### Weight Initializing - He Normal"
   ]
  },
  {
   "cell_type": "code",
   "execution_count": 329,
   "metadata": {},
   "outputs": [],
   "source": [
    "def _init_param(X,y,hidden):\n",
    "    W1=np.random.normal(loc=0,scale=np.sqrt(2/(X.shape[1])),size=(X.shape[1],hidden[0]))\n",
    "    b1=np.random.normal(loc=0,scale=np.sqrt(2/(X.shape[1])),size=hidden[0])\n",
    "    W2=np.random.normal(loc=0,scale=np.sqrt(2/(hidden[0])),size=(hidden[0],len(np.unique(y))))\n",
    "    b2=np.random.normal(loc=0,scale=np.sqrt(2/(hidden[0])),size=len(np.unique(y)))\n",
    "    return W1,b1,W2,b2"
   ]
  },
  {
   "cell_type": "markdown",
   "metadata": {},
   "source": [
    "### Forward Probagation"
   ]
  },
  {
   "cell_type": "markdown",
   "metadata": {},
   "source": [
    "> We need to Change the activation function manually\n",
    "\n",
    "> Feel free to change and check how each activation function works"
   ]
  },
  {
   "cell_type": "code",
   "execution_count": 330,
   "metadata": {},
   "outputs": [],
   "source": [
    "def forward_probagation(X,W1,b1,W2,b2):\n",
    "    #Input Layer\n",
    "    Z1=np.dot(X,W1)+b1\n",
    "    \n",
    "    # Hidden Layer\n",
    "    Activation1=softplus(Z1)\n",
    "    \n",
    "    Z2=np.dot(Activation1,W2)+b2\n",
    "    \n",
    "    # Output layer\n",
    "    YP=softmax(Z2)\n",
    "    \n",
    "    return Z1,Activation1,Z2,YP"
   ]
  },
  {
   "cell_type": "markdown",
   "metadata": {},
   "source": [
    "### Backward Probagation"
   ]
  },
  {
   "cell_type": "code",
   "execution_count": 331,
   "metadata": {},
   "outputs": [],
   "source": [
    "def Back_probagation(X,y,W2,A1,YP,derivative_act):\n",
    "    dW2=((y-YP)).T.dot(A1)\n",
    "    db2=((y-YP)).sum(axis=0)\n",
    "    dW1=(((y-YP).dot(W2.T)*(derivative_act)))\n",
    "    dW1=X.T.dot(dW1)\n",
    "    db1=(((y-YP).dot(W2.T)*derivative_act)).sum(axis=0)\n",
    "    return dW2,db2,dW1,db1"
   ]
  },
  {
   "cell_type": "markdown",
   "metadata": {},
   "source": [
    "### Weight Updation"
   ]
  },
  {
   "cell_type": "code",
   "execution_count": 333,
   "metadata": {},
   "outputs": [],
   "source": [
    "def update_weights(W1,b1,W2,b2,dW2,db2,dW1,db1,lr):\n",
    "    W1=W1+(lr*dW1)\n",
    "    b1=b1+(lr*db1)\n",
    "    W2=W2+(lr*dW2.T)\n",
    "    b2=b2+(lr*db2)\n",
    "    return W1,b1,W2,b2"
   ]
  },
  {
   "cell_type": "markdown",
   "metadata": {},
   "source": [
    "### Prediction"
   ]
  },
  {
   "cell_type": "code",
   "execution_count": 334,
   "metadata": {},
   "outputs": [],
   "source": [
    "def predict1(X,W1,b1,W2,b2):\n",
    "    _,_,_,YP=forward_probagation(X,W1,b1,W2,b2)\n",
    "    res=np.zeros(YP.shape[0],dtype=int)\n",
    "    for i in range(YP.shape[0]):\n",
    "        if YP[i,0]>YP[i,1]:\n",
    "            res[i]=0\n",
    "        else:\n",
    "            res[i]=1\n",
    "    return res"
   ]
  },
  {
   "cell_type": "markdown",
   "metadata": {},
   "source": [
    "### Training "
   ]
  },
  {
   "cell_type": "markdown",
   "metadata": {},
   "source": [
    "> Note: Here we need to change the derivative of the activation function manually"
   ]
  },
  {
   "cell_type": "code",
   "execution_count": 335,
   "metadata": {},
   "outputs": [],
   "source": [
    "def trainining(X,y,n_hidden,lr,iterration,plot=False):\n",
    "\n",
    "# We can see the step by step transformation by setting plot = True    \n",
    "    \n",
    "    if plot:\n",
    "        fig=plt.figure(1,(13,5))\n",
    "        ax1=fig.add_subplot(141)\n",
    "        ax2=fig.add_subplot(142)\n",
    "        ax3=fig.add_subplot(143)\n",
    "        ax4=fig.add_subplot(144)\n",
    "    \n",
    "# Weight initialization\n",
    "\n",
    "\n",
    "    W1,b1,W2,b2=_init_param(X,y,n_hidden)\n",
    "    \n",
    "# Converting y into one hot vector\n",
    "    y1=one_hoty(y)\n",
    "    \n",
    "    for i in range(iterration):\n",
    "        \n",
    "# Forward pass\n",
    "        Z1,A1,Z2,YP=forward_probagation(X,W1,b1,W2,b2)\n",
    "        \n",
    "# Computing Cost\n",
    "        cost=-(np.sum(y1*(np.log(YP))+((1-y1)*(np.log(1-YP)))))\n",
    "\n",
    "# Ploting the transformation\n",
    "        if plot:\n",
    "            ax1.scatter(X[:,0],X[:,1],c=y)\n",
    "            ax2.scatter(A1[:,0],A1[:,1],c=y)\n",
    "            ax3.scatter(Z2[:,0],Z2[:,1],c=y)\n",
    "            ax4.scatter(YP[:,0],YP[:,1],c=y)\n",
    "            fig.canvas.draw()\n",
    "\n",
    "# Computing gradient of activation function        \n",
    "\n",
    "# >>>>>>>>>>>>>>>>>>>>>>>>>>>>>>>>>>>>>>>>>>>>>>>>>>>>\n",
    "\n",
    "        derivative_activation=derivative_softplus(A1)   #>>>(\" Need to change when we change the activation function\")\n",
    "\n",
    "# >>>>>>>>>>>>>>>>>>>>>>>>>>>>>>>>>>>>>>>>>>>>>>>>>>>\n",
    "    \n",
    "# Backward function\n",
    "        dW2,db2,dW1,db1=Back_probagation(X,y1,W2,A1,YP,derivative_activation)\n",
    "    \n",
    "# Updating Weight\n",
    "        W1,b1,W2,b2=update_weights(W1,b1,W2,b2,dW2,db2,dW1,db1,lr)\n",
    "        \n",
    "#     print(cost)\n",
    "    return W1,b1,W2,b2"
   ]
  },
  {
   "cell_type": "code",
   "execution_count": null,
   "metadata": {},
   "outputs": [],
   "source": []
  },
  {
   "cell_type": "code",
   "execution_count": 336,
   "metadata": {},
   "outputs": [],
   "source": [
    "X_train,X_test,y_train,y_test=train_test_split(X,y,test_size=0.2)"
   ]
  },
  {
   "cell_type": "markdown",
   "metadata": {},
   "source": [
    "### Training the model"
   ]
  },
  {
   "cell_type": "code",
   "execution_count": 337,
   "metadata": {},
   "outputs": [],
   "source": [
    "W1,b1,W2,b2=trainining(X_train,y_train,[10],1e-3,10000)"
   ]
  },
  {
   "cell_type": "markdown",
   "metadata": {},
   "source": [
    "### Testing the model"
   ]
  },
  {
   "cell_type": "code",
   "execution_count": 338,
   "metadata": {},
   "outputs": [],
   "source": [
    "y_predicted=predict1(X,W1,b1,W2,b2)"
   ]
  },
  {
   "cell_type": "markdown",
   "metadata": {},
   "source": [
    "### Accuracy"
   ]
  },
  {
   "cell_type": "code",
   "execution_count": 339,
   "metadata": {},
   "outputs": [
    {
     "data": {
      "text/plain": [
       "0.973"
      ]
     },
     "execution_count": 339,
     "metadata": {},
     "output_type": "execute_result"
    }
   ],
   "source": [
    "sum(y_predicted==y)/len(y)"
   ]
  },
  {
   "cell_type": "markdown",
   "metadata": {},
   "source": [
    "# i have checked all the activation function, and  did not get any error "
   ]
  }
 ],
 "metadata": {
  "kernelspec": {
   "display_name": "Python 3",
   "language": "python",
   "name": "python3"
  },
  "language_info": {
   "codemirror_mode": {
    "name": "ipython",
    "version": 3
   },
   "file_extension": ".py",
   "mimetype": "text/x-python",
   "name": "python",
   "nbconvert_exporter": "python",
   "pygments_lexer": "ipython3",
   "version": "3.8.5"
  }
 },
 "nbformat": 4,
 "nbformat_minor": 4
}
